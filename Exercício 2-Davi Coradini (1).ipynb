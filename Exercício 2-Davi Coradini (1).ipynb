{
 "cells": [
  {
   "cell_type": "markdown",
   "id": "c08c7699-1876-4d91-8f37-2cc0cea6cef1",
   "metadata": {},
   "source": [
    "# Exercício 1:"
   ]
  },
  {
   "cell_type": "code",
   "execution_count": 3,
   "id": "c2bb32ba-a884-47e3-97fa-1cd1dddffbc0",
   "metadata": {},
   "outputs": [
    {
     "data": {
      "text/plain": [
       "'Davi Coradini Costa'"
      ]
     },
     "execution_count": 3,
     "metadata": {},
     "output_type": "execute_result"
    }
   ],
   "source": [
    "# a) Crie uma variável chamada nome e atribua o seu nome a ela.\n",
    "\n",
    "meu_nome = \"Davi Coradini Costa\"\n",
    "meu_nome"
   ]
  },
  {
   "cell_type": "code",
   "execution_count": 9,
   "id": "53eab3a8-c90d-4c62-bf1d-3999830a8316",
   "metadata": {},
   "outputs": [
    {
     "data": {
      "text/plain": [
       "'22 anos'"
      ]
     },
     "execution_count": 9,
     "metadata": {},
     "output_type": "execute_result"
    }
   ],
   "source": [
    "# b) Crie uma variável chamada idade e atribua sua idade a ela.\n",
    "\n",
    "minha_idade = \"22 anos\"\n",
    "minha_idade"
   ]
  },
  {
   "cell_type": "code",
   "execution_count": 5,
   "id": "569211ff-8a48-4951-95a1-85a91146192b",
   "metadata": {},
   "outputs": [
    {
     "data": {
      "text/plain": [
       "'1.79'"
      ]
     },
     "execution_count": 5,
     "metadata": {},
     "output_type": "execute_result"
    }
   ],
   "source": [
    "# c) Crie uma variável chamada altura e atribua sua altura (em metros) a ela.\n",
    "\n",
    "minha_altura = \"1.79\"\n",
    "minha_altura"
   ]
  },
  {
   "cell_type": "code",
   "execution_count": 11,
   "id": "e0a8d5ce-e5e2-40a2-a7db-fc42f061f12b",
   "metadata": {},
   "outputs": [
    {
     "name": "stdout",
     "output_type": "stream",
     "text": [
      "Meu nome é Davi Coradini Costa, tenho 22 anos anos e minha altura é 1.79 metros.\n"
     ]
    }
   ],
   "source": [
    "# d) Mostre na tela a concatenação das informações: \"Meu nome é [nome], tenho [idade] anos e minha altura é [altura] metros.\n",
    "\n",
    "print(\"Meu nome é {nome}, tenho {idade} anos e minha altura é {altura} metros.\". format(nome = meu_nome, idade = minha_idade, altura = minha_altura))\n"
   ]
  },
  {
   "cell_type": "markdown",
   "id": "36f53fe3-c810-4245-9422-07cabb3fe9c4",
   "metadata": {},
   "source": [
    "# Exercício 2:"
   ]
  },
  {
   "cell_type": "code",
   "execution_count": 15,
   "id": "c751b98d-1e5d-4488-b050-a0611876a379",
   "metadata": {},
   "outputs": [
    {
     "data": {
      "text/plain": [
       "'Python é uma linguagem de programação muito poderosa.'"
      ]
     },
     "execution_count": 15,
     "metadata": {},
     "output_type": "execute_result"
    }
   ],
   "source": [
    "# a) Crie uma variável chamada frase\n",
    "\n",
    "frase = \"Python é uma linguagem de programação muito poderosa.\"\n",
    "frase"
   ]
  },
  {
   "cell_type": "code",
   "execution_count": 17,
   "id": "97f09ac7-ecd2-42e0-97d8-c8c7bb49a5a0",
   "metadata": {},
   "outputs": [
    {
     "data": {
      "text/plain": [
       "'PYTHON É UMA LINGUAGEM DE PROGRAMAÇÃO MUITO PODEROSA.'"
      ]
     },
     "execution_count": 17,
     "metadata": {},
     "output_type": "execute_result"
    }
   ],
   "source": [
    "# b) Utilize o método .upper() para transformar toda a frase em maiúsculas e imprima o resultado.\n",
    "\n",
    "frase.upper()"
   ]
  },
  {
   "cell_type": "code",
   "execution_count": 19,
   "id": "1ee098b5-91b9-48dc-b2d2-983385f9cb7f",
   "metadata": {},
   "outputs": [
    {
     "data": {
      "text/plain": [
       "'python é uma linguagem de programação muito poderosa.'"
      ]
     },
     "execution_count": 19,
     "metadata": {},
     "output_type": "execute_result"
    }
   ],
   "source": [
    "# c) Utilize o método .lower() para transformar toda a frase em minúsculas e imprima oresultado.\n",
    "\n",
    "frase.lower()"
   ]
  },
  {
   "cell_type": "code",
   "execution_count": 21,
   "id": "0e53086f-0c6a-457d-8b0b-3bf8f131f303",
   "metadata": {},
   "outputs": [
    {
     "data": {
      "text/plain": [
       "'Python é uma linguagem de programação extremamente poderosa.'"
      ]
     },
     "execution_count": 21,
     "metadata": {},
     "output_type": "execute_result"
    }
   ],
   "source": [
    "# d) Utilize o método .replace() para substituir a palavra \"muito\" por \"extremamente\". Imprima o resultado.\n",
    "\n",
    "substituir = frase.replace(\"muito\", \"extremamente\")\n",
    "substituir"
   ]
  },
  {
   "cell_type": "code",
   "execution_count": 23,
   "id": "e08b77b9-a509-4410-82e4-a126d1b911e8",
   "metadata": {},
   "outputs": [
    {
     "data": {
      "text/plain": [
       "['Python', 'é', 'uma', 'linguagem', 'de', 'programação', 'muito', 'poderosa.']"
      ]
     },
     "execution_count": 23,
     "metadata": {},
     "output_type": "execute_result"
    }
   ],
   "source": [
    "# e) Utilize o método .split() para dividir a frase em palavras e imprima o resultado como uma lista.\n",
    "\n",
    "\"Python é uma linguagem de programação muito poderosa.\".split()"
   ]
  },
  {
   "cell_type": "code",
   "execution_count": 27,
   "id": "8265b8fb-776c-4141-bf31-a9712a660a17",
   "metadata": {},
   "outputs": [
    {
     "data": {
      "text/plain": [
       "['Python',\n",
       " 'é',\n",
       " 'uma',\n",
       " 'linguagem',\n",
       " 'de',\n",
       " 'programação',\n",
       " 'extremamente',\n",
       " 'poderosa.']"
      ]
     },
     "execution_count": 27,
     "metadata": {},
     "output_type": "execute_result"
    }
   ],
   "source": [
    "\"Python é uma linguagem de programação extremamente poderosa.\".split()"
   ]
  },
  {
   "cell_type": "markdown",
   "id": "51e36be1-514a-4fac-9817-a36cbbcdc0a4",
   "metadata": {},
   "source": [
    "# Exercício 3:"
   ]
  },
  {
   "cell_type": "code",
   "execution_count": 31,
   "id": "cdbe81c8-5540-47cb-bf0d-421c05f58568",
   "metadata": {},
   "outputs": [],
   "source": [
    "# a) Crie uma lista chamada frutas contendo os seguintes itens: \"maçã\", \"banana\", \"laranja\",\"uva\", \"abacaxi\".\n",
    "\n",
    "frutas = [\"maçã\", \"banana\", \"laranja\",\"uva\", \"abacaxi\"]"
   ]
  },
  {
   "cell_type": "code",
   "execution_count": 33,
   "id": "aab3b2a3-76bb-4d16-a713-caa56575d9ce",
   "metadata": {},
   "outputs": [
    {
     "data": {
      "text/plain": [
       "['maçã', 'banana', 'laranja', 'uva', 'abacaxi']"
      ]
     },
     "execution_count": 33,
     "metadata": {},
     "output_type": "execute_result"
    }
   ],
   "source": [
    "# b) Imprima a lista frutas.\n",
    "\n",
    "frutas"
   ]
  },
  {
   "cell_type": "code",
   "execution_count": 35,
   "id": "822ec91b-5369-4245-b9ae-7aeeef4e0d3b",
   "metadata": {},
   "outputs": [
    {
     "data": {
      "text/plain": [
       "['maçã', 'banana', 'laranja', 'uva', 'abacaxi', 'manga']"
      ]
     },
     "execution_count": 35,
     "metadata": {},
     "output_type": "execute_result"
    }
   ],
   "source": [
    "# c) Adicione o item \"manga\" à lista frutas utilizando o método .append() e imprima a lista novamente.\n",
    "\n",
    "frutas = [\"maçã\", \"banana\", \"laranja\",\"uva\", \"abacaxi\"]\n",
    "frutas.append(\"manga\")\n",
    "frutas"
   ]
  },
  {
   "cell_type": "code",
   "execution_count": 41,
   "id": "aba403d4-15a2-4545-848d-e7d826c3a8d7",
   "metadata": {},
   "outputs": [
    {
     "data": {
      "text/plain": [
       "['maçã', 'banana', 'uva', 'abacaxi', 'manga']"
      ]
     },
     "execution_count": 41,
     "metadata": {},
     "output_type": "execute_result"
    }
   ],
   "source": [
    "# d) Remova o item \"laranja\" da lista frutas utilizando o método .remove() e imprima a lista.\n",
    "\n",
    "frutas = [\"maçã\", \"banana\", \"laranja\", \"uva\", \"abacaxi\", \"manga\"]\n",
    "frutas.remove(\"laranja\")\n",
    "frutas"
   ]
  },
  {
   "cell_type": "code",
   "execution_count": 39,
   "id": "8b3dcdc1-6ac7-4a53-9f42-7148cd261065",
   "metadata": {},
   "outputs": [
    {
     "data": {
      "text/plain": [
       "'laranja'"
      ]
     },
     "execution_count": 39,
     "metadata": {},
     "output_type": "execute_result"
    }
   ],
   "source": [
    "# e) Acesse o terceiro item da lista frutas (lembrando que as listas começam em 0) e imprima-o.\n",
    "# Com laranja\n",
    "\n",
    "frutas = [\"maçã\", \"banana\", \"laranja\", \"uva\", \"abacaxi\", \"manga\"]\n",
    "terceira_fruta = frutas[2]\n",
    "terceira_fruta\n"
   ]
  },
  {
   "cell_type": "code",
   "execution_count": 43,
   "id": "aa34f2eb-2d82-4296-ac40-3358c5d316f0",
   "metadata": {},
   "outputs": [
    {
     "data": {
      "text/plain": [
       "'uva'"
      ]
     },
     "execution_count": 43,
     "metadata": {},
     "output_type": "execute_result"
    }
   ],
   "source": [
    "# f) Sem laranja\n",
    "\n",
    "frutas = [\"maçã\", \"banana\", \"uva\", \"abacaxi\", \"manga\"]\n",
    "fruta_3 = frutas[2]\n",
    "fruta_3"
   ]
  },
  {
   "cell_type": "code",
   "execution_count": 45,
   "id": "069c0b4e-2f13-479d-a5d5-ab60ce0290c0",
   "metadata": {},
   "outputs": [
    {
     "data": {
      "text/plain": [
       "['abacaxi', 'banana', 'laranja', 'manga', 'maçã', 'uva']"
      ]
     },
     "execution_count": 45,
     "metadata": {},
     "output_type": "execute_result"
    }
   ],
   "source": [
    "# g) Ordene a lista frutas em ordem alfabética utilizando o método .sort() e imprima a lista.\n",
    "\n",
    "frutas = [\"maçã\", \"banana\", \"laranja\", \"uva\", \"abacaxi\", \"manga\"]\n",
    "frutas.sort()\n",
    "frutas"
   ]
  },
  {
   "cell_type": "code",
   "execution_count": 47,
   "id": "aacea38b-a90b-4f3f-a259-6d934cbdf285",
   "metadata": {},
   "outputs": [
    {
     "name": "stdout",
     "output_type": "stream",
     "text": [
      "32\n"
     ]
    }
   ],
   "source": [
    "# h) Crie uma lista chamada numeros com os valores [10, 5, 8, 3, 6]. Utilize a função sum() para calcular a soma de todos os elementos dessa lista e imprima o resultado.\n",
    "\n",
    "lista = [10, 5, 8, 3, 6]\n",
    "soma = sum(lista)\n",
    "print(soma)"
   ]
  },
  {
   "cell_type": "markdown",
   "id": "1988b613-1b7c-47d0-b1af-3f9c7a04efc4",
   "metadata": {},
   "source": [
    "# Exercício 4:"
   ]
  },
  {
   "cell_type": "code",
   "execution_count": 51,
   "id": "339d7c44-d74c-4801-aeea-5f57f35c5718",
   "metadata": {
    "tags": []
   },
   "outputs": [],
   "source": [
    "# a) Crie um dicionário chamado pessoa com as seguintes chaves e valores:\"nome\": \"Carlos\" \"idade\": 30 \"cidade\": \"São Paulo\"\n",
    "\n",
    "pessoa = {\"nome\":\"Carlos\", \"idade\":30, \"Cidade\": \"São Paulo\"}"
   ]
  },
  {
   "cell_type": "code",
   "execution_count": 53,
   "id": "7924d7d1-94a4-460e-a688-74bae7d356ea",
   "metadata": {
    "tags": []
   },
   "outputs": [
    {
     "data": {
      "text/plain": [
       "{'nome': 'Carlos', 'idade': 30, 'Cidade': 'São Paulo'}"
      ]
     },
     "execution_count": 53,
     "metadata": {},
     "output_type": "execute_result"
    }
   ],
   "source": [
    "pessoa"
   ]
  },
  {
   "cell_type": "code",
   "execution_count": 55,
   "id": "e5bd52df-81b6-46ad-8d31-a4411b1ec0db",
   "metadata": {
    "tags": []
   },
   "outputs": [
    {
     "data": {
      "text/plain": [
       "'Carlos'"
      ]
     },
     "execution_count": 55,
     "metadata": {},
     "output_type": "execute_result"
    }
   ],
   "source": [
    "# b)  Acesse e imprima o valor associado à chave \"nome\".\n",
    "\n",
    "pessoa.pop('nome')"
   ]
  },
  {
   "cell_type": "code",
   "execution_count": 57,
   "id": "0675299f-54b3-4593-8eca-b763dae6e2f3",
   "metadata": {
    "tags": []
   },
   "outputs": [],
   "source": [
    "# c) Altere a idade de \"Carlos\" para 31 e imprima o dicionário novamente.\n",
    "\n",
    "pessoa['idade'] = '31'"
   ]
  },
  {
   "cell_type": "code",
   "execution_count": 59,
   "id": "0eeb83d3-8be0-4ef1-aca8-92b055a3d93f",
   "metadata": {
    "tags": []
   },
   "outputs": [
    {
     "data": {
      "text/plain": [
       "{'idade': '31', 'Cidade': 'São Paulo'}"
      ]
     },
     "execution_count": 59,
     "metadata": {},
     "output_type": "execute_result"
    }
   ],
   "source": [
    "pessoa"
   ]
  },
  {
   "cell_type": "code",
   "execution_count": 61,
   "id": "2c61713b-0d4c-41a1-ae7d-5ec17d991056",
   "metadata": {
    "tags": []
   },
   "outputs": [],
   "source": [
    "# d) Adicione uma nova chave \"profissão\" ao dicionário com o valor \"engenheiro\". Imprima o dicionário atualizado.\n",
    "\n",
    "pessoa['profissão'] = \"Engenheiro\""
   ]
  },
  {
   "cell_type": "code",
   "execution_count": 63,
   "id": "ef22d673-9bf5-4ffc-9be8-af5a40746285",
   "metadata": {
    "tags": []
   },
   "outputs": [
    {
     "data": {
      "text/plain": [
       "{'idade': '31', 'Cidade': 'São Paulo', 'profissão': 'Engenheiro'}"
      ]
     },
     "execution_count": 63,
     "metadata": {},
     "output_type": "execute_result"
    }
   ],
   "source": [
    "pessoa"
   ]
  },
  {
   "cell_type": "markdown",
   "id": "9e04761b-76b3-412e-a529-5483673d9979",
   "metadata": {},
   "source": [
    "# Exercício 5:"
   ]
  },
  {
   "cell_type": "code",
   "execution_count": 65,
   "id": "59e442ae-cda9-4812-ab9f-2dbe234f6bb5",
   "metadata": {},
   "outputs": [],
   "source": [
    "# a) Crie uma tupla chamada cores contendo as seguintes cores: \"vermelho\", \"azul\", \"verde\",\"amarelo\", \"roxo\".\n",
    "\n",
    "cores = (\"vermelho\", \"azul\", \"verde\",\"amarelo\", \"roxo\")"
   ]
  },
  {
   "cell_type": "code",
   "execution_count": 67,
   "id": "3371681b-d774-4271-97f8-ad9d76ab8867",
   "metadata": {},
   "outputs": [
    {
     "name": "stdout",
     "output_type": "stream",
     "text": [
      "('vermelho', 'azul', 'verde', 'amarelo', 'roxo')\n"
     ]
    }
   ],
   "source": [
    "# b) Imprima a tupla cores.\n",
    "\n",
    "print(cores)"
   ]
  },
  {
   "cell_type": "code",
   "execution_count": 69,
   "id": "48de9daf-dde3-4754-8bff-02dbd27be4b0",
   "metadata": {},
   "outputs": [
    {
     "data": {
      "text/plain": [
       "'azul'"
      ]
     },
     "execution_count": 69,
     "metadata": {},
     "output_type": "execute_result"
    }
   ],
   "source": [
    "# c) Acesse e imprima o segundo item da tupla cores.\n",
    "\n",
    "cores = (\"vermelho\", \"azul\", \"verde\",\"amarelo\", \"roxo\")\n",
    "cores_2 = cores[1]\n",
    "cores_2"
   ]
  },
  {
   "cell_type": "code",
   "execution_count": 71,
   "id": "454359ed-ca00-485c-b550-e737bd3cad4d",
   "metadata": {},
   "outputs": [
    {
     "data": {
      "text/plain": [
       "True"
      ]
     },
     "execution_count": 71,
     "metadata": {},
     "output_type": "execute_result"
    }
   ],
   "source": [
    "# d) Verifique se a cor \"azul\" está presente na tupla cores e imprima True ou False dependendo da resposta.\n",
    "\n",
    "verificar = \"azul\" in cores\n",
    "verificar"
   ]
  },
  {
   "cell_type": "code",
   "execution_count": 73,
   "id": "9ae439c9-0dba-416a-aa5f-a41a8954b193",
   "metadata": {},
   "outputs": [
    {
     "data": {
      "text/plain": [
       "False"
      ]
     },
     "execution_count": 73,
     "metadata": {},
     "output_type": "execute_result"
    }
   ],
   "source": [
    "verificar = \"blue\" in cores\n",
    "verificar"
   ]
  },
  {
   "cell_type": "code",
   "execution_count": 75,
   "id": "fb148cb1-2ca2-40b0-bf5d-0685bb36a64c",
   "metadata": {},
   "outputs": [
    {
     "data": {
      "text/plain": [
       "(1, 2, 3, 4, 5)"
      ]
     },
     "execution_count": 75,
     "metadata": {},
     "output_type": "execute_result"
    }
   ],
   "source": [
    "# e) Crie uma tupla chamada numeros contendo os números (1, 2, 3, 4, 5)\n",
    "\n",
    "numeros = (1, 2, 3, 4, 5)\n",
    "numeros "
   ]
  },
  {
   "cell_type": "code",
   "execution_count": 77,
   "id": "30d1c8de-690a-4aaa-9d23-c80e911c3caa",
   "metadata": {},
   "outputs": [
    {
     "data": {
      "text/plain": [
       "15"
      ]
     },
     "execution_count": 77,
     "metadata": {},
     "output_type": "execute_result"
    }
   ],
   "source": [
    "# f) Some todos os elementos da tupla numeros e imprima o resultado.\n",
    "\n",
    "numeros = (1, 2, 3, 4, 5)\n",
    "soma = sum(numeros)\n",
    "soma"
   ]
  },
  {
   "cell_type": "code",
   "execution_count": 83,
   "id": "f6514285-f020-4010-b9bc-8de17fecf460",
   "metadata": {},
   "outputs": [
    {
     "ename": "NameError",
     "evalue": "name 'troca' is not defined",
     "output_type": "error",
     "traceback": [
      "\u001b[1;31m---------------------------------------------------------------------------\u001b[0m",
      "\u001b[1;31mNameError\u001b[0m                                 Traceback (most recent call last)",
      "Cell \u001b[1;32mIn[83], line 4\u001b[0m\n\u001b[0;32m      1\u001b[0m \u001b[38;5;66;03m# g) Tente alterar o valor do terceiro item da tupla cores para \"laranja\". O que acontece? Explique por que não é possível alterar um valor em uma tupla.\u001b[39;00m\n\u001b[0;32m      3\u001b[0m cores \u001b[38;5;241m=\u001b[39m (\u001b[38;5;124m\"\u001b[39m\u001b[38;5;124mvermelho\u001b[39m\u001b[38;5;124m\"\u001b[39m, \u001b[38;5;124m\"\u001b[39m\u001b[38;5;124mazul\u001b[39m\u001b[38;5;124m\"\u001b[39m, \u001b[38;5;124m\"\u001b[39m\u001b[38;5;124mverde\u001b[39m\u001b[38;5;124m\"\u001b[39m,\u001b[38;5;124m\"\u001b[39m\u001b[38;5;124mamarelo\u001b[39m\u001b[38;5;124m\"\u001b[39m, \u001b[38;5;124m\"\u001b[39m\u001b[38;5;124mroxo\u001b[39m\u001b[38;5;124m\"\u001b[39m)\n\u001b[1;32m----> 4\u001b[0m troca[\u001b[38;5;241m2\u001b[39m] \u001b[38;5;241m=\u001b[39m \u001b[38;5;124m\"\u001b[39m\u001b[38;5;124mlaranja\u001b[39m\u001b[38;5;124m\"\u001b[39m\n\u001b[0;32m      5\u001b[0m troca\n",
      "\u001b[1;31mNameError\u001b[0m: name 'troca' is not defined"
     ]
    }
   ],
   "source": [
    "# g) Tente alterar o valor do terceiro item da tupla cores para \"laranja\". O que acontece? Explique por que não é possível alterar um valor em uma tupla.\n",
    "\n",
    "cores = (\"vermelho\", \"azul\", \"verde\",\"amarelo\", \"roxo\")\n",
    "troca[2] = \"laranja\"\n",
    "troca"
   ]
  },
  {
   "cell_type": "markdown",
   "id": "12e9535d-92e1-416c-94cc-5f6032e5b531",
   "metadata": {},
   "source": [
    "### Em Python, uma tupla é imutável, o que significa que, depois de criada, seus elementos não podem ser modificados. Se você tentar alterar algum valor dentro dela, o Python retornará um erro, pois não permite essa operação.\n"
   ]
  },
  {
   "cell_type": "code",
   "execution_count": 88,
   "id": "9cb59238-38b2-4604-b649-23b303aab02e",
   "metadata": {},
   "outputs": [
    {
     "data": {
      "text/plain": [
       "('vermelho', 'azul', 'verde', 'amarelo', 'roxo', 'preto', 'branco')"
      ]
     },
     "execution_count": 88,
     "metadata": {},
     "output_type": "execute_result"
    }
   ],
   "source": [
    "# h) Crie uma nova tupla chamada nova_cores que seja a concatenação da tupla cores com uma nova tupla (\"preto\", \"branco\") e imprima o resultado.\n",
    "\n",
    "cores = (\"vermelho\", \"azul\", \"verde\",\"amarelo\", \"roxo\")\n",
    "nova_tupla_cores = (\"preto\", \"branco\")\n",
    "nova_cores = cores + nova_tupla_cores\n",
    "nova_cores"
   ]
  },
  {
   "cell_type": "markdown",
   "id": "3a855808-c658-42b3-9646-edf421447106",
   "metadata": {},
   "source": [
    "# Exercício 6:"
   ]
  },
  {
   "cell_type": "code",
   "execution_count": 96,
   "id": "760a3e66-8622-4271-85bf-89cd608a1c32",
   "metadata": {},
   "outputs": [
    {
     "name": "stdin",
     "output_type": "stream",
     "text": [
      "Digite seu peso (em kg):  92\n",
      "Digite sua altura (em metros):  1.79\n"
     ]
    },
    {
     "name": "stdout",
     "output_type": "stream",
     "text": [
      "O seu IMC é: 28.71\n"
     ]
    }
   ],
   "source": [
    "# Crie um programa que receba a altura e o peso de uma pessoa e imprima seu IMC\n",
    "\n",
    "peso = float(input(\"Digite seu peso (em kg): \"))\n",
    "altura = float(input(\"Digite sua altura (em metros): \"))\n",
    "\n",
    "imc = peso / (altura ** 2)\n",
    "\n",
    "print(f\"O seu IMC é: {imc:.2f}\")"
   ]
  },
  {
   "cell_type": "markdown",
   "id": "627cddf6-68b8-4573-8358-fd21cf376482",
   "metadata": {},
   "source": [
    "# Exercício 7:"
   ]
  },
  {
   "cell_type": "code",
   "execution_count": 98,
   "id": "aa005aea-5afd-43fa-b035-e15f550c6738",
   "metadata": {},
   "outputs": [
    {
     "name": "stdin",
     "output_type": "stream",
     "text": [
      "Digite seu nome completo:  Davi Coradini Costa\n"
     ]
    },
    {
     "name": "stdout",
     "output_type": "stream",
     "text": [
      "Olá, Davi!\n"
     ]
    }
   ],
   "source": [
    "# Escreva um programa que pergunte o nome completo do usuário e o cumprimente pelo primeiro nome\n",
    "\n",
    "nome_completo = input(\"Digite seu nome completo: \")\n",
    "\n",
    "primeiro_nome = nome_completo.split()[0]\n",
    "\n",
    "print(f\"Olá, {primeiro_nome}!\")"
   ]
  },
  {
   "cell_type": "markdown",
   "id": "8b0224ae-71ff-43e8-bb0b-a9232ac370b8",
   "metadata": {},
   "source": [
    "# Exercício 8:"
   ]
  },
  {
   "cell_type": "code",
   "execution_count": 100,
   "id": "e739601f-5431-49c2-80df-916fc62f0329",
   "metadata": {},
   "outputs": [
    {
     "name": "stdin",
     "output_type": "stream",
     "text": [
      "Digite seu email:  davicoradinic@gmail.com\n"
     ]
    },
    {
     "name": "stdout",
     "output_type": "stream",
     "text": [
      "O domínio do e-mail é: gmail.com\n"
     ]
    }
   ],
   "source": [
    "# Escreva um código que extraia o domínio de um e-mail informado\n",
    "\n",
    "email = input(\"Digite seu email: \")\n",
    "\n",
    "menos_dominio = email.split(\"@\")[1]\n",
    "\n",
    "print(f\"O domínio do e-mail é: {menos_dominio}\")"
   ]
  }
 ],
 "metadata": {
  "kernelspec": {
   "display_name": "Python 3 (ipykernel)",
   "language": "python",
   "name": "python3"
  },
  "language_info": {
   "codemirror_mode": {
    "name": "ipython",
    "version": 3
   },
   "file_extension": ".py",
   "mimetype": "text/x-python",
   "name": "python",
   "nbconvert_exporter": "python",
   "pygments_lexer": "ipython3",
   "version": "3.12.7"
  }
 },
 "nbformat": 4,
 "nbformat_minor": 5
}
